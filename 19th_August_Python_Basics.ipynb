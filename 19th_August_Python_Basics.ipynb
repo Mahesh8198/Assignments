{
 "cells": [
  {
   "cell_type": "markdown",
   "id": "64f85418-a24a-46b4-a8b6-c0e117bd8dd8",
   "metadata": {},
   "source": [
    "Python Basics Variable"
   ]
  },
  {
   "cell_type": "code",
   "execution_count": 1,
   "id": "0f6b1942-3a96-4180-8557-386493a4fbf2",
   "metadata": {},
   "outputs": [],
   "source": [
    "#Q1 Declare two variables\n",
    "x,y = 5,7"
   ]
  },
  {
   "cell_type": "code",
   "execution_count": 2,
   "id": "651a9cce-d9cf-4391-a3b1-2aa6a5af4f0c",
   "metadata": {},
   "outputs": [
    {
     "data": {
      "text/plain": [
       "5"
      ]
     },
     "execution_count": 2,
     "metadata": {},
     "output_type": "execute_result"
    }
   ],
   "source": [
    "x"
   ]
  },
  {
   "cell_type": "code",
   "execution_count": 3,
   "id": "e3578936-ed13-41b1-ae2c-5c47e9c3bb2c",
   "metadata": {},
   "outputs": [
    {
     "data": {
      "text/plain": [
       "7"
      ]
     },
     "execution_count": 3,
     "metadata": {},
     "output_type": "execute_result"
    }
   ],
   "source": [
    "y"
   ]
  },
  {
   "cell_type": "code",
   "execution_count": 4,
   "id": "dda6ef39-5ddd-4b00-a5cf-7337a3af047f",
   "metadata": {},
   "outputs": [],
   "source": [
    "#Swap the values of variables \n",
    "x,y=y,x"
   ]
  },
  {
   "cell_type": "code",
   "execution_count": 5,
   "id": "9b5f93eb-1f70-4bd9-b8eb-ba6962f6a399",
   "metadata": {},
   "outputs": [
    {
     "data": {
      "text/plain": [
       "7"
      ]
     },
     "execution_count": 5,
     "metadata": {},
     "output_type": "execute_result"
    }
   ],
   "source": [
    "x"
   ]
  },
  {
   "cell_type": "code",
   "execution_count": 6,
   "id": "2525aa42-bdfb-4492-b506-58384115f3d3",
   "metadata": {},
   "outputs": [
    {
     "data": {
      "text/plain": [
       "5"
      ]
     },
     "execution_count": 6,
     "metadata": {},
     "output_type": "execute_result"
    }
   ],
   "source": [
    "y"
   ]
  },
  {
   "cell_type": "code",
   "execution_count": 7,
   "id": "42e330b8-c7f7-410e-b51b-02ef5330cbc3",
   "metadata": {},
   "outputs": [
    {
     "name": "stdin",
     "output_type": "stream",
     "text": [
      " 5\n",
      " 7\n"
     ]
    }
   ],
   "source": [
    "#Q2 Area of the rectangle\n",
    "#Take the length and breadth as inputs and store in variables l1 & b1\n",
    "length = int(input())\n",
    "breadth = int(input())"
   ]
  },
  {
   "cell_type": "code",
   "execution_count": 8,
   "id": "a23a69b4-5e19-4a41-ab1f-1fa2cfd5be76",
   "metadata": {},
   "outputs": [],
   "source": [
    "#Area of the rectangle = length * breadth\n",
    "Area = length * breadth"
   ]
  },
  {
   "cell_type": "code",
   "execution_count": 9,
   "id": "4116696e-1c5b-436d-8544-76c6f1431f0f",
   "metadata": {},
   "outputs": [
    {
     "data": {
      "text/plain": [
       "35"
      ]
     },
     "execution_count": 9,
     "metadata": {},
     "output_type": "execute_result"
    }
   ],
   "source": [
    "Area"
   ]
  },
  {
   "cell_type": "code",
   "execution_count": 10,
   "id": "579b1329-5643-40ae-8ffa-e244ba15300a",
   "metadata": {},
   "outputs": [
    {
     "name": "stdin",
     "output_type": "stream",
     "text": [
      " 36\n"
     ]
    }
   ],
   "source": [
    "#Q3 Temperature from celsius to Fahrenheit\n",
    "temp_celsius = int(input())"
   ]
  },
  {
   "cell_type": "code",
   "execution_count": 11,
   "id": "fbf65fff-8bdf-46c7-b854-a73b9085c5c3",
   "metadata": {},
   "outputs": [],
   "source": [
    "#Temp in fahrenheit = (Temp in celsius *9/5)+32\n",
    "temp_fahrenheit = (temp_celsius * 9/5)+32"
   ]
  },
  {
   "cell_type": "code",
   "execution_count": 12,
   "id": "c3a7248e-b270-42cd-83f0-0728adfb7a18",
   "metadata": {},
   "outputs": [
    {
     "data": {
      "text/plain": [
       "96.8"
      ]
     },
     "execution_count": 12,
     "metadata": {},
     "output_type": "execute_result"
    }
   ],
   "source": [
    "temp_fahrenheit"
   ]
  },
  {
   "cell_type": "markdown",
   "id": "f7d69b0d-6489-4ae6-b2ee-01105ed98a80",
   "metadata": {},
   "source": [
    "String Based Questions"
   ]
  },
  {
   "cell_type": "code",
   "execution_count": 13,
   "id": "9b48373b-30e0-4b5b-8b2b-bff9708dc66c",
   "metadata": {},
   "outputs": [
    {
     "name": "stdin",
     "output_type": "stream",
     "text": [
      " Mahesh Shanmugavel\n"
     ]
    }
   ],
   "source": [
    "#Q1 Take string as input and print the length\n",
    "string1 = input()"
   ]
  },
  {
   "cell_type": "code",
   "execution_count": 14,
   "id": "c319fd3c-b53e-4ef0-89ff-f7263b6fd33a",
   "metadata": {},
   "outputs": [
    {
     "data": {
      "text/plain": [
       "18"
      ]
     },
     "execution_count": 14,
     "metadata": {},
     "output_type": "execute_result"
    }
   ],
   "source": [
    "len(string1)"
   ]
  },
  {
   "cell_type": "code",
   "execution_count": 15,
   "id": "98ce03e3-d169-4856-8717-ac8e9d4e3722",
   "metadata": {},
   "outputs": [
    {
     "name": "stdin",
     "output_type": "stream",
     "text": [
      " This is python basics assignment\n"
     ]
    }
   ],
   "source": [
    "#Q2 Count the Number of vowels\n",
    "string2 = input()"
   ]
  },
  {
   "cell_type": "code",
   "execution_count": 16,
   "id": "b5b2ac3e-c743-42cf-84fb-be0459e7b451",
   "metadata": {},
   "outputs": [],
   "source": [
    "string3 = list(string2)"
   ]
  },
  {
   "cell_type": "code",
   "execution_count": 17,
   "id": "87ac0e7e-95d9-4296-98fb-a1d69416329b",
   "metadata": {},
   "outputs": [
    {
     "data": {
      "text/plain": [
       "['T',\n",
       " 'h',\n",
       " 'i',\n",
       " 's',\n",
       " ' ',\n",
       " 'i',\n",
       " 's',\n",
       " ' ',\n",
       " 'p',\n",
       " 'y',\n",
       " 't',\n",
       " 'h',\n",
       " 'o',\n",
       " 'n',\n",
       " ' ',\n",
       " 'b',\n",
       " 'a',\n",
       " 's',\n",
       " 'i',\n",
       " 'c',\n",
       " 's',\n",
       " ' ',\n",
       " 'a',\n",
       " 's',\n",
       " 's',\n",
       " 'i',\n",
       " 'g',\n",
       " 'n',\n",
       " 'm',\n",
       " 'e',\n",
       " 'n',\n",
       " 't']"
      ]
     },
     "execution_count": 17,
     "metadata": {},
     "output_type": "execute_result"
    }
   ],
   "source": [
    "string3"
   ]
  },
  {
   "cell_type": "code",
   "execution_count": 18,
   "id": "ca68f267-b83a-4b8b-981e-e40bf3eb8c2d",
   "metadata": {},
   "outputs": [
    {
     "data": {
      "text/plain": [
       "8"
      ]
     },
     "execution_count": 18,
     "metadata": {},
     "output_type": "execute_result"
    }
   ],
   "source": [
    "# Number of vowels in string\n",
    "string3.count('a') + string3.count('e') + string3.count('i') + string3.count('o') + string3.count('u')"
   ]
  },
  {
   "cell_type": "code",
   "execution_count": 19,
   "id": "7b1fb4db-e8a9-4697-852f-7bddbf8ef899",
   "metadata": {},
   "outputs": [],
   "source": [
    "#Q3 Reverse the order of characters in string\n",
    "s4 = 'Data science'"
   ]
  },
  {
   "cell_type": "code",
   "execution_count": 20,
   "id": "e8cbee73-355f-4a08-8e6c-651d0801dc78",
   "metadata": {},
   "outputs": [
    {
     "data": {
      "text/plain": [
       "'ecneics ataD'"
      ]
     },
     "execution_count": 20,
     "metadata": {},
     "output_type": "execute_result"
    }
   ],
   "source": [
    "s4[::-1]"
   ]
  },
  {
   "cell_type": "code",
   "execution_count": 21,
   "id": "facec25d-2956-4451-86ac-bb208535f6b4",
   "metadata": {},
   "outputs": [
    {
     "name": "stdin",
     "output_type": "stream",
     "text": [
      " malayalam\n"
     ]
    }
   ],
   "source": [
    "#Q4 Taking string as a input\n",
    "s5 = input()"
   ]
  },
  {
   "cell_type": "code",
   "execution_count": 22,
   "id": "d97a51e7-0f7a-4795-a4ee-638710f19ae2",
   "metadata": {},
   "outputs": [
    {
     "data": {
      "text/plain": [
       "True"
      ]
     },
     "execution_count": 22,
     "metadata": {},
     "output_type": "execute_result"
    }
   ],
   "source": [
    "#Checking if it is a palindrome\n",
    "s5 == s5[::-1]"
   ]
  },
  {
   "cell_type": "code",
   "execution_count": 23,
   "id": "14be475d-6a71-4e93-b0ed-3196e2702bc5",
   "metadata": {},
   "outputs": [
    {
     "name": "stdin",
     "output_type": "stream",
     "text": [
      " My name is Mahesh\n"
     ]
    }
   ],
   "source": [
    "#Q5 Remove spaces in a string\n",
    "s6 = input()"
   ]
  },
  {
   "cell_type": "code",
   "execution_count": 24,
   "id": "e75bdfec-550b-40bf-a609-e8c40af04c0b",
   "metadata": {},
   "outputs": [
    {
     "data": {
      "text/plain": [
       "'MynameisMahesh'"
      ]
     },
     "execution_count": 24,
     "metadata": {},
     "output_type": "execute_result"
    }
   ],
   "source": [
    "s6.replace(' ','')"
   ]
  },
  {
   "cell_type": "code",
   "execution_count": null,
   "id": "78d873f4-e2d2-4377-8b70-c5e6f955ec5c",
   "metadata": {},
   "outputs": [],
   "source": []
  }
 ],
 "metadata": {
  "kernelspec": {
   "display_name": "Python 3 (ipykernel)",
   "language": "python",
   "name": "python3"
  },
  "language_info": {
   "codemirror_mode": {
    "name": "ipython",
    "version": 3
   },
   "file_extension": ".py",
   "mimetype": "text/x-python",
   "name": "python",
   "nbconvert_exporter": "python",
   "pygments_lexer": "ipython3",
   "version": "3.10.8"
  }
 },
 "nbformat": 4,
 "nbformat_minor": 5
}
